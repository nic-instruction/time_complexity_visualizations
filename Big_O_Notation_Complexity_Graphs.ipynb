{
  "nbformat": 4,
  "nbformat_minor": 0,
  "metadata": {
    "colab": {
      "name": "Big O Notation Complexity Graphs.ipynb",
      "provenance": [],
      "private_outputs": true,
      "collapsed_sections": [],
      "authorship_tag": "ABX9TyOtOEdd7Cf6yMNUBdRw/u7q",
      "include_colab_link": true
    },
    "kernelspec": {
      "name": "python3",
      "display_name": "Python 3"
    }
  },
  "cells": [
    {
      "cell_type": "markdown",
      "metadata": {
        "id": "view-in-github",
        "colab_type": "text"
      },
      "source": [
        "<a href=\"https://colab.research.google.com/github/nic-instruction/time_complexity_visualizations/blob/main/Big_O_Notation_Complexity_Graphs.ipynb\" target=\"_parent\"><img src=\"https://colab.research.google.com/assets/colab-badge.svg\" alt=\"Open In Colab\"/></a>"
      ]
    },
    {
      "cell_type": "markdown",
      "metadata": {
        "id": "deLOoqTXDxPJ"
      },
      "source": [
        "These are just some quick graphs to help visualize Big O notation and what various complexities look like at different scales.\n",
        "\n"
      ]
    },
    {
      "cell_type": "markdown",
      "metadata": {
        "id": "FXA-kKgmEiee"
      },
      "source": [
        "This is a plot from 0 to 100 with no modifications."
      ]
    },
    {
      "cell_type": "code",
      "metadata": {
        "id": "WckZR-bnDkVR"
      },
      "source": [
        "#!/usr/bin/python\n",
        "\n",
        "import numpy as np\n",
        "import matplotlib.pyplot as plt\n",
        "import warnings\n",
        "warnings.filterwarnings(\"ignore\")\n",
        "from scipy.special import gamma\n",
        "\n",
        "X = np.linspace(0, 100, 20,)\n",
        "\n",
        "plt.yticks(np.linspace(1, 100, 20))\n",
        "plt.ylim(0, 100)\n",
        "\n",
        "Ya = (X)\n",
        "Yb = (X**2)\n",
        "Yc = (X*np.log(X))\n",
        "Ye = (np.log(X))\n",
        "Yf = (gamma(X))\n",
        "Yg = (2**X)\n",
        "\n",
        "line1, = plt.plot(X, Ya, marker='o', label='O(n)')\n",
        "line2, = plt.plot(X, Yb, marker='o', label='O(n^2)')\n",
        "line3, = plt.plot(X, Yc, marker='o', label='O(nlog(n))')\n",
        "line5, = plt.plot(X, Ye, marker='o', label='O(log(n))')\n",
        "line6, = plt.plot(X, Yf, marker='o', label='O(n!)')\n",
        "line7, = plt.plot(X, Yg, marker='o', label='O(2^n)')\n",
        "\n",
        "plt.legend()\n",
        "plt.show()"
      ],
      "execution_count": null,
      "outputs": []
    },
    {
      "cell_type": "markdown",
      "metadata": {
        "id": "hNSxI6ChEx9e"
      },
      "source": [
        "This is the same graph zoomed in to 10."
      ]
    },
    {
      "cell_type": "code",
      "metadata": {
        "id": "17hxCG2sE7l5"
      },
      "source": [
        "#!/usr/bin/python\n",
        "\n",
        "import numpy as np\n",
        "import matplotlib.pyplot as plt\n",
        "import warnings\n",
        "warnings.filterwarnings(\"ignore\")\n",
        "from scipy.special import gamma\n",
        "from ipykernel import kernelapp as app\n",
        "\n",
        "X = np.linspace(0, 10, 10)\n",
        "\n",
        "plt.yticks(np.linspace(0, 10, 10))\n",
        "plt.ylim(0, 10)\n",
        "\n",
        "Ya = (X)\n",
        "Yb = (X**2)\n",
        "Yc = (X*np.log(X))\n",
        "Ye = (np.log(X))\n",
        "Yf = (gamma(X))\n",
        "Yg = (2**X)\n",
        "\n",
        "line1, = plt.plot(X, Ya, marker='o', label='O(n)')\n",
        "line2, = plt.plot(X, Yb, marker='o', label='O(n^2)')\n",
        "line3, = plt.plot(X, Yc, marker='o', label='O(nlog(n))')\n",
        "line5, = plt.plot(X, Ye, marker='o', label='O(log(n))')\n",
        "line6, = plt.plot(X, Yf, marker='o', label='O(n!)')\n",
        "line7, = plt.plot(X, Yg, marker='o', label='O(2^n)')\n",
        "\n",
        "plt.legend()\n",
        "plt.show()"
      ],
      "execution_count": null,
      "outputs": []
    },
    {
      "cell_type": "markdown",
      "metadata": {
        "id": "Tx_KaPTEFte6"
      },
      "source": [
        "In this example we've scaled the y axis to 1000, while keeping the x axis at 100 to flatten the growth.  Note that many visualizations of these equations are very flattened so that you can see the overall arch of each equation.  The examples above are not flattened at all.  This example is flattened a little."
      ]
    },
    {
      "cell_type": "code",
      "metadata": {
        "id": "kOTkA95wGIWo"
      },
      "source": [
        "#!/usr/bin/python\n",
        "\n",
        "import numpy as np\n",
        "import matplotlib.pyplot as plt\n",
        "import warnings\n",
        "warnings.filterwarnings(\"ignore\")\n",
        "from scipy.special import gamma\n",
        "from ipykernel import kernelapp as app\n",
        "\n",
        "X = np.linspace(0, 100, 20,)\n",
        "\n",
        "plt.yticks(np.linspace(1, 1000, 20))\n",
        "plt.ylim(0, 1000)\n",
        "\n",
        "Ya = (X)\n",
        "Yb = (X**2)\n",
        "Yc = (X*np.log(X))\n",
        "Ye = (np.log(X))\n",
        "Yf = (gamma(X))\n",
        "Yg = (2**X)\n",
        "\n",
        "line1, = plt.plot(X, Ya, marker='o', label='O(n)')\n",
        "line2, = plt.plot(X, Yb, marker='o', label='O(n^2)')\n",
        "line3, = plt.plot(X, Yc, marker='o', label='O(nlog(n))')\n",
        "line5, = plt.plot(X, Ye, marker='o', label='O(log(n))')\n",
        "line6, = plt.plot(X, Yf, marker='o', label='O(n!)')\n",
        "line7, = plt.plot(X, Yg, marker='o', label='O(2^n)')\n",
        "\n",
        "plt.legend()\n",
        "plt.show()"
      ],
      "execution_count": null,
      "outputs": []
    }
  ]
}